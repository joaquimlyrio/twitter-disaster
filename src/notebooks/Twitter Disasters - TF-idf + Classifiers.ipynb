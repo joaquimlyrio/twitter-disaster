{
 "cells": [
  {
   "cell_type": "markdown",
   "metadata": {},
   "source": [
    "# Twitter Disaster Prediction"
   ]
  },
  {
   "cell_type": "markdown",
   "metadata": {},
   "source": [
    "### Import Libraries"
   ]
  },
  {
   "cell_type": "code",
   "execution_count": 1,
   "metadata": {},
   "outputs": [],
   "source": [
    "import pandas as pd\n",
    "import numpy as np\n",
    "\n",
    "from sklearn import linear_model, model_selection, preprocessing, metrics, svm\n",
    "from sklearn.feature_extraction.text import CountVectorizer, TfidfTransformer\n",
    "from sklearn.naive_bayes import BernoulliNB\n",
    "from sklearn.model_selection import cross_val_score, train_test_split\n",
    "from sklearn.ensemble import RandomForestClassifier\n",
    "\n",
    "import nltk\n",
    "from nltk.tokenize import word_tokenize \n",
    "from nltk.corpus import stopwords\n",
    "import string\n",
    "# nltk.download('stopwords')\n",
    "# nltk.download('punkt')\n",
    "\n",
    "from plotnine import *\n",
    "\n",
    "# tensorflow and Keras\n",
    "import tensorflow as tf\n",
    "from tensorflow import keras\n",
    "import tensorflow_hub as hub\n"
   ]
  },
  {
   "cell_type": "markdown",
   "metadata": {},
   "source": [
    "### Read Data"
   ]
  },
  {
   "cell_type": "code",
   "execution_count": 2,
   "metadata": {},
   "outputs": [
    {
     "data": {
      "text/html": [
       "<div>\n",
       "<style scoped>\n",
       "    .dataframe tbody tr th:only-of-type {\n",
       "        vertical-align: middle;\n",
       "    }\n",
       "\n",
       "    .dataframe tbody tr th {\n",
       "        vertical-align: top;\n",
       "    }\n",
       "\n",
       "    .dataframe thead th {\n",
       "        text-align: right;\n",
       "    }\n",
       "</style>\n",
       "<table border=\"1\" class=\"dataframe\">\n",
       "  <thead>\n",
       "    <tr style=\"text-align: right;\">\n",
       "      <th></th>\n",
       "      <th>id</th>\n",
       "      <th>keyword</th>\n",
       "      <th>location</th>\n",
       "      <th>text</th>\n",
       "      <th>target</th>\n",
       "    </tr>\n",
       "  </thead>\n",
       "  <tbody>\n",
       "    <tr>\n",
       "      <th>0</th>\n",
       "      <td>1</td>\n",
       "      <td>NaN</td>\n",
       "      <td>NaN</td>\n",
       "      <td>Our Deeds are the Reason of this #earthquake M...</td>\n",
       "      <td>1</td>\n",
       "    </tr>\n",
       "    <tr>\n",
       "      <th>1</th>\n",
       "      <td>4</td>\n",
       "      <td>NaN</td>\n",
       "      <td>NaN</td>\n",
       "      <td>Forest fire near La Ronge Sask. Canada</td>\n",
       "      <td>1</td>\n",
       "    </tr>\n",
       "    <tr>\n",
       "      <th>2</th>\n",
       "      <td>5</td>\n",
       "      <td>NaN</td>\n",
       "      <td>NaN</td>\n",
       "      <td>All residents asked to 'shelter in place' are ...</td>\n",
       "      <td>1</td>\n",
       "    </tr>\n",
       "    <tr>\n",
       "      <th>3</th>\n",
       "      <td>6</td>\n",
       "      <td>NaN</td>\n",
       "      <td>NaN</td>\n",
       "      <td>13,000 people receive #wildfires evacuation or...</td>\n",
       "      <td>1</td>\n",
       "    </tr>\n",
       "    <tr>\n",
       "      <th>4</th>\n",
       "      <td>7</td>\n",
       "      <td>NaN</td>\n",
       "      <td>NaN</td>\n",
       "      <td>Just got sent this photo from Ruby #Alaska as ...</td>\n",
       "      <td>1</td>\n",
       "    </tr>\n",
       "  </tbody>\n",
       "</table>\n",
       "</div>"
      ],
      "text/plain": [
       "   id keyword location                                               text  \\\n",
       "0   1     NaN      NaN  Our Deeds are the Reason of this #earthquake M...   \n",
       "1   4     NaN      NaN             Forest fire near La Ronge Sask. Canada   \n",
       "2   5     NaN      NaN  All residents asked to 'shelter in place' are ...   \n",
       "3   6     NaN      NaN  13,000 people receive #wildfires evacuation or...   \n",
       "4   7     NaN      NaN  Just got sent this photo from Ruby #Alaska as ...   \n",
       "\n",
       "   target  \n",
       "0       1  \n",
       "1       1  \n",
       "2       1  \n",
       "3       1  \n",
       "4       1  "
      ]
     },
     "execution_count": 2,
     "metadata": {},
     "output_type": "execute_result"
    }
   ],
   "source": [
    "# read data\n",
    "train = pd.read_csv( '../data/nlp-getting-started/train.csv' )\n",
    "test  = pd.read_csv( '../data/nlp-getting-started/test.csv' )\n",
    "subm_samp = pd.read_csv( '../data/nlp-getting-started/sample_submission.csv' )\n",
    "\n",
    "train.head(5)"
   ]
  },
  {
   "cell_type": "code",
   "execution_count": 3,
   "metadata": {},
   "outputs": [
    {
     "name": "stdout",
     "output_type": "stream",
     "text": [
      " Class 1 Size : 3271\n",
      " Class 0 Size : 4342\n"
     ]
    }
   ],
   "source": [
    "##\n",
    "## Checking size of each class on train set\n",
    "print( ' Class 1 Size : ' + str(train[ train['target'] == 1 ].shape[0]) )\n",
    "print( ' Class 0 Size : ' + str(train[ train['target'] == 0 ].shape[0]) )"
   ]
  },
  {
   "cell_type": "markdown",
   "metadata": {},
   "source": [
    "## Feature Engineering"
   ]
  },
  {
   "cell_type": "markdown",
   "metadata": {},
   "source": [
    "### Text Pre-processing"
   ]
  },
  {
   "cell_type": "code",
   "execution_count": 4,
   "metadata": {},
   "outputs": [
    {
     "data": {
      "text/html": [
       "<div>\n",
       "<style scoped>\n",
       "    .dataframe tbody tr th:only-of-type {\n",
       "        vertical-align: middle;\n",
       "    }\n",
       "\n",
       "    .dataframe tbody tr th {\n",
       "        vertical-align: top;\n",
       "    }\n",
       "\n",
       "    .dataframe thead th {\n",
       "        text-align: right;\n",
       "    }\n",
       "</style>\n",
       "<table border=\"1\" class=\"dataframe\">\n",
       "  <thead>\n",
       "    <tr style=\"text-align: right;\">\n",
       "      <th></th>\n",
       "      <th>id</th>\n",
       "      <th>keyword</th>\n",
       "      <th>text</th>\n",
       "      <th>tokenized</th>\n",
       "      <th>new_text</th>\n",
       "      <th>target</th>\n",
       "    </tr>\n",
       "  </thead>\n",
       "  <tbody>\n",
       "    <tr>\n",
       "      <th>0</th>\n",
       "      <td>1</td>\n",
       "      <td>NaN</td>\n",
       "      <td>Our Deeds are the Reason of this #earthquake M...</td>\n",
       "      <td>[deeds, reason, earthquake, may, allah, forgiv...</td>\n",
       "      <td>deeds reason earthquake may allah forgive us</td>\n",
       "      <td>1</td>\n",
       "    </tr>\n",
       "    <tr>\n",
       "      <th>1</th>\n",
       "      <td>4</td>\n",
       "      <td>NaN</td>\n",
       "      <td>Forest fire near La Ronge Sask. Canada</td>\n",
       "      <td>[forest, fire, near, la, ronge, sask, canada]</td>\n",
       "      <td>forest fire near la ronge sask canada</td>\n",
       "      <td>1</td>\n",
       "    </tr>\n",
       "    <tr>\n",
       "      <th>2</th>\n",
       "      <td>5</td>\n",
       "      <td>NaN</td>\n",
       "      <td>All residents asked to 'shelter in place' are ...</td>\n",
       "      <td>[residents, asked, shelter, place, notified, o...</td>\n",
       "      <td>residents asked shelter place notified officer...</td>\n",
       "      <td>1</td>\n",
       "    </tr>\n",
       "    <tr>\n",
       "      <th>3</th>\n",
       "      <td>6</td>\n",
       "      <td>NaN</td>\n",
       "      <td>13,000 people receive #wildfires evacuation or...</td>\n",
       "      <td>[13000, people, receive, wildfires, evacuation...</td>\n",
       "      <td>13000 people receive wildfires evacuation orde...</td>\n",
       "      <td>1</td>\n",
       "    </tr>\n",
       "    <tr>\n",
       "      <th>4</th>\n",
       "      <td>7</td>\n",
       "      <td>NaN</td>\n",
       "      <td>Just got sent this photo from Ruby #Alaska as ...</td>\n",
       "      <td>[got, sent, photo, ruby, alaska, smoke, wildfi...</td>\n",
       "      <td>got sent photo ruby alaska smoke wildfires pou...</td>\n",
       "      <td>1</td>\n",
       "    </tr>\n",
       "  </tbody>\n",
       "</table>\n",
       "</div>"
      ],
      "text/plain": [
       "   id keyword                                               text  \\\n",
       "0   1     NaN  Our Deeds are the Reason of this #earthquake M...   \n",
       "1   4     NaN             Forest fire near La Ronge Sask. Canada   \n",
       "2   5     NaN  All residents asked to 'shelter in place' are ...   \n",
       "3   6     NaN  13,000 people receive #wildfires evacuation or...   \n",
       "4   7     NaN  Just got sent this photo from Ruby #Alaska as ...   \n",
       "\n",
       "                                           tokenized  \\\n",
       "0  [deeds, reason, earthquake, may, allah, forgiv...   \n",
       "1      [forest, fire, near, la, ronge, sask, canada]   \n",
       "2  [residents, asked, shelter, place, notified, o...   \n",
       "3  [13000, people, receive, wildfires, evacuation...   \n",
       "4  [got, sent, photo, ruby, alaska, smoke, wildfi...   \n",
       "\n",
       "                                            new_text  target  \n",
       "0       deeds reason earthquake may allah forgive us       1  \n",
       "1              forest fire near la ronge sask canada       1  \n",
       "2  residents asked shelter place notified officer...       1  \n",
       "3  13000 people receive wildfires evacuation orde...       1  \n",
       "4  got sent photo ruby alaska smoke wildfires pou...       1  "
      ]
     },
     "execution_count": 4,
     "metadata": {},
     "output_type": "execute_result"
    }
   ],
   "source": [
    "###\n",
    "### Function to process data\n",
    "###\n",
    "def textProcessing(dt, textCol, cols = ['id','keyword','text','tokenized','new_text','target'] ):\n",
    "    \n",
    "    # make copy\n",
    "    dt_copy = dt.copy()\n",
    "    \n",
    "    # Get stopwords\n",
    "    stop_words = set(stopwords.words('english')) \n",
    "    \n",
    "    # Remove cases\n",
    "    dt_copy['tmp_text'] = dt[textCol].str.lower()\n",
    "\n",
    "    # Remove punctuation\n",
    "    dt_copy['tmp_text'] = dt_copy.apply(lambda row: row['tmp_text'].translate(str.maketrans('', '', string.punctuation)), axis=1)\n",
    "\n",
    "    # Tokenize\n",
    "    dt_copy['tmp_text'] = dt_copy.apply(lambda row: word_tokenize(row['tmp_text']), axis=1)\n",
    "\n",
    "    # Remove stopwords\n",
    "    dt_copy['tokenized'] = dt_copy['tmp_text'].apply(lambda x: [item for item in x if item not in stop_words])\n",
    "    \n",
    "    # Merge words\n",
    "    dt_copy['new_text'] = dt_copy['tokenized'].apply( lambda row: ' '.join(row) )\n",
    "    \n",
    "    # Return dataframe\n",
    "    return dt_copy[ cols ]\n",
    "\n",
    "newtrain = textProcessing( train, 'text' )\n",
    "newtrain.head(5)"
   ]
  },
  {
   "cell_type": "markdown",
   "metadata": {},
   "source": [
    "### Split Train / Test Set"
   ]
  },
  {
   "cell_type": "code",
   "execution_count": 5,
   "metadata": {},
   "outputs": [
    {
     "name": "stdout",
     "output_type": "stream",
     "text": [
      "Train shape:(5709,)\n",
      "Proportion of class 0 in train: 56.84%\n",
      "Proportion of class 1 in train: 43.16%\n",
      "\n",
      "Test shape:(1904,)\n",
      "Proportion of class 0 in train: 57.62%\n",
      "Proportion of class 1 in train: 42.38%\n"
     ]
    }
   ],
   "source": [
    "# Split the dataset for cross validation\n",
    "X_train, X_test, y_train, y_test = train_test_split(newtrain.new_text, \n",
    "                                                    newtrain.target, \n",
    "                                                    test_size=0.25, \n",
    "                                                    random_state=123)\n",
    "\n",
    "\n",
    "print('Train shape:' + str(X_train.shape) )\n",
    "print('Proportion of class 0 in train: ' + str( np.round( 100*np.sum(y_train==0) / len(y_train), 2 ) ) + '%' )\n",
    "print('Proportion of class 1 in train: ' + str( np.round( 100*np.sum(y_train==1) / len(y_train), 2 ) ) + '%' )\n",
    "print('')\n",
    "print('Test shape:' + str(X_test.shape) )\n",
    "print('Proportion of class 0 in train: ' + str( np.round( 100*np.sum(y_test==0) / len(y_test), 2 ) ) + '%' )\n",
    "print('Proportion of class 1 in train: ' + str( np.round( 100*np.sum(y_test==1) / len(y_test), 2 ) ) + '%' )"
   ]
  },
  {
   "cell_type": "markdown",
   "metadata": {},
   "source": [
    "### Compute Tf-idf"
   ]
  },
  {
   "cell_type": "code",
   "execution_count": 6,
   "metadata": {},
   "outputs": [
    {
     "name": "stdout",
     "output_type": "stream",
     "text": [
      "(5709, 18221)\n",
      "(1904, 18221)\n"
     ]
    }
   ],
   "source": [
    "from sklearn.feature_extraction.text import TfidfVectorizer\n",
    "\n",
    "# create Tfidf based on clean train data\n",
    "vectorizer = TfidfVectorizer()\n",
    "X_train_tfidf = vectorizer.fit_transform( X_train )\n",
    "print(X_train_tfidf.shape)\n",
    "\n",
    "# tranform test data into Tfidf\n",
    "X_test_tfidf = vectorizer.transform( X_test )\n",
    "print(X_test_tfidf.shape)"
   ]
  },
  {
   "cell_type": "markdown",
   "metadata": {},
   "source": [
    "## Models"
   ]
  },
  {
   "cell_type": "markdown",
   "metadata": {},
   "source": [
    "### Bernoulli Naive Bayes Classifier"
   ]
  },
  {
   "cell_type": "code",
   "execution_count": 8,
   "metadata": {},
   "outputs": [
    {
     "name": "stdout",
     "output_type": "stream",
     "text": [
      "Train 0/1 Accuracy: 0.9164477141355754\n",
      "Test 0/1 Accuracy: 0.8025210084033614\n",
      "\n",
      "Train F1 Score: 0.895049504950495\n",
      "Test F1 Score: 0.7251461988304094\n"
     ]
    }
   ],
   "source": [
    "##\n",
    "## Fit Bernoulli Naive-Bayes\n",
    "clf_tfidf = BernoulliNB().fit( X_train_tfidf, y_train )\n",
    "clf_tfidf\n",
    "\n",
    "##\n",
    "## Predict on train / test set\n",
    "print( 'Train 0/1 Accuracy: ' + str( np.mean( clf_tfidf.predict(X_train_tfidf) == y_train ) ) )\n",
    "print( 'Test 0/1 Accuracy: ' + str( np.mean( clf_tfidf.predict(X_test_tfidf) == y_test ) ) )\n",
    "print('')\n",
    "print( 'Train F1 Score: ' + str( metrics.f1_score( y_true = np.reshape(y_train.to_numpy(), (-1, 1)),\n",
    "                                                   y_pred = clf_tfidf.predict(X_train_tfidf) ) ) )\n",
    "print( 'Test F1 Score: ' + str( metrics.f1_score( y_true = np.reshape(y_test.to_numpy(), (-1, 1)),\n",
    "                                                  y_pred = clf_tfidf.predict(X_test_tfidf) ) ) )"
   ]
  },
  {
   "cell_type": "markdown",
   "metadata": {},
   "source": [
    "### Ridge Classifier"
   ]
  },
  {
   "cell_type": "code",
   "execution_count": 9,
   "metadata": {},
   "outputs": [
    {
     "name": "stdout",
     "output_type": "stream",
     "text": [
      "\n",
      "Ridge Classifier\n",
      "\n",
      "Train 0/1 Accuracy: 0.9719740760203188\n",
      "Test 0/1 Accuracy: 0.7878151260504201\n",
      "\n",
      "Train F1 Score: 0.966914805624483\n",
      "Test F1 Score: 0.7352555701179555\n"
     ]
    }
   ],
   "source": [
    "from sklearn.linear_model import RidgeClassifierCV\n",
    "\n",
    "print('')\n",
    "print('Ridge Classifier')\n",
    "print('')\n",
    "\n",
    "# 5-fold cross-validation\n",
    "clf_ridge_tfidf = RidgeClassifierCV( alphas=[1e-3, 1e-2, 1e-1, 1, 5, 10], \n",
    "                              cv = 5 ).fit(X_train_tfidf, y_train)\n",
    "\n",
    "print( 'Train 0/1 Accuracy: ' + str( np.mean( clf_ridge_tfidf.predict(X_train_tfidf) == y_train ) ) )\n",
    "print( 'Test 0/1 Accuracy: ' + str( np.mean( clf_ridge_tfidf.predict(X_test_tfidf) == y_test ) ) )\n",
    "print('')\n",
    "print( 'Train F1 Score: ' + str( metrics.f1_score( y_true = np.reshape(y_train.to_numpy(), (-1, 1)),\n",
    "                                                   y_pred = clf_ridge_tfidf.predict(X_train_tfidf) ) ) )\n",
    "print( 'Test F1 Score: ' + str( metrics.f1_score( y_true = np.reshape(y_test.to_numpy(), (-1, 1)),\n",
    "                                                  y_pred = clf_ridge_tfidf.predict(X_test_tfidf) ) ) )\n",
    "\n"
   ]
  },
  {
   "cell_type": "markdown",
   "metadata": {},
   "source": [
    "### Random Forest"
   ]
  },
  {
   "cell_type": "code",
   "execution_count": 119,
   "metadata": {},
   "outputs": [],
   "source": [
    "# from sklearn.model_selection import RandomizedSearchCV, GridSearchCV\n",
    "# from sklearn.ensemble import RandomForestClassifier\n",
    "\n",
    "# # Number of trees in random forest\n",
    "# n_estimators = [ 200, 300]#, 400, 500 ]\n",
    "\n",
    "# # Number of features to consider at every split\n",
    "# max_features = ['auto', 40, 50]\n",
    "\n",
    "# # Create the random grid\n",
    "# param_grid = {'n_estimators': n_estimators,\n",
    "#               'max_features': max_features }\n",
    "\n",
    "# # Use the random grid to search for best hyperparameters\n",
    "# # First create the base model to tune\n",
    "# rf = RandomForestClassifier()\n",
    "# rf_tuned = GridSearchCV(estimator = rf, \n",
    "#                         param_grid = param_grid, \n",
    "#                         scoring = 'f1',\n",
    "#                         cv = 3, verbose= 2, n_jobs = -1 )\n",
    "\n",
    "# # Fit the random search model\n",
    "# rf_tuned.fit( X_train_tfidf, y_train )\n",
    "\n",
    "# # Print best parameters\n",
    "# rf_tuned.best_params_"
   ]
  },
  {
   "cell_type": "code",
   "execution_count": 194,
   "metadata": {},
   "outputs": [],
   "source": [
    "# print( 'Train 0/1 Accuracy: ' + str( np.mean( rf_random.predict(X_train_tfidf) == y_train ) ) )\n",
    "# print( 'Test 0/1 Accuracy: ' + str( np.mean( rf_random.predict(X_test_tfidf) == y_test ) ) )\n",
    "# print('')\n",
    "# print( 'Train F1 Score: ' + str( metrics.f1_score( y_true = np.reshape(y_train.to_numpy(), (-1, 1)),\n",
    "#                                                    y_pred = rf_random.predict(X_train_tfidf) ) ) )\n",
    "# print( 'Test F1 Score: ' + str( metrics.f1_score( y_true = np.reshape(y_test.to_numpy(), (-1, 1)),\n",
    "#                                                   y_pred = rf_random.predict(X_test_tfidf) ) ) )"
   ]
  },
  {
   "cell_type": "markdown",
   "metadata": {},
   "source": [
    "### Neural Network"
   ]
  },
  {
   "cell_type": "code",
   "execution_count": 21,
   "metadata": {},
   "outputs": [
    {
     "name": "stdout",
     "output_type": "stream",
     "text": [
      "Model: \"sequential_4\"\n",
      "_________________________________________________________________\n",
      "Layer (type)                 Output Shape              Param #   \n",
      "=================================================================\n",
      "dense_7 (Dense)              (None, 8)                 145776    \n",
      "_________________________________________________________________\n",
      "dropout_2 (Dropout)          (None, 8)                 0         \n",
      "_________________________________________________________________\n",
      "dense_8 (Dense)              (None, 1)                 9         \n",
      "=================================================================\n",
      "Total params: 145,785\n",
      "Trainable params: 145,785\n",
      "Non-trainable params: 0\n",
      "_________________________________________________________________\n"
     ]
    }
   ],
   "source": [
    "import tensorflow as tf\n",
    "\n",
    "##\n",
    "## Define model's architecture\n",
    "model = tf.keras.Sequential()\n",
    "model.add( tf.keras.layers.Dense(8, activation='relu', input_shape=(X_train_tfidf.shape[1],) ) )\n",
    "model.add( tf.keras.layers.Dropout(0.2, seed=123) )\n",
    "model.add( tf.keras.layers.Dense(1, activation='sigmoid' ) )\n",
    "\n",
    "##\n",
    "## Compile model\n",
    "model.compile(optimizer='adam',\n",
    "              loss='binary_crossentropy',\n",
    "              metrics=['accuracy'])\n",
    "\n",
    "##\n",
    "## Print network's architecture\n",
    "model.summary()"
   ]
  },
  {
   "cell_type": "code",
   "execution_count": 22,
   "metadata": {},
   "outputs": [
    {
     "name": "stdout",
     "output_type": "stream",
     "text": [
      "Train on 5709 samples, validate on 1904 samples\n",
      "Epoch 1/5\n",
      "5709/5709 [==============================] - 2s 330us/sample - loss: 0.6674 - accuracy: 0.6111 - val_loss: 0.6253 - val_accuracy: 0.7048\n",
      "Epoch 2/5\n",
      "5709/5709 [==============================] - 1s 149us/sample - loss: 0.5686 - accuracy: 0.7802 - val_loss: 0.5421 - val_accuracy: 0.7894\n",
      "Epoch 3/5\n",
      "5709/5709 [==============================] - 1s 149us/sample - loss: 0.4528 - accuracy: 0.8714 - val_loss: 0.4849 - val_accuracy: 0.7983\n",
      "Epoch 4/5\n",
      "5709/5709 [==============================] - 1s 150us/sample - loss: 0.3589 - accuracy: 0.9021 - val_loss: 0.4589 - val_accuracy: 0.8020\n",
      "Epoch 5/5\n",
      "5709/5709 [==============================] - 1s 151us/sample - loss: 0.2917 - accuracy: 0.9210 - val_loss: 0.4494 - val_accuracy: 0.7973\n"
     ]
    },
    {
     "data": {
      "text/plain": [
       "<tensorflow.python.keras.callbacks.History at 0x1b00802c50>"
      ]
     },
     "execution_count": 22,
     "metadata": {},
     "output_type": "execute_result"
    }
   ],
   "source": [
    "## Train Model\n",
    "model.fit(X_train_tfidf.toarray(),\n",
    "          y_train,\n",
    "          epochs=5,\n",
    "          validation_data=(X_test_tfidf.toarray(), y_test),\n",
    "          verbose=1 )"
   ]
  },
  {
   "cell_type": "code",
   "execution_count": 23,
   "metadata": {},
   "outputs": [
    {
     "name": "stdout",
     "output_type": "stream",
     "text": [
      "\n",
      "Neural Net - Fully Connected\n",
      "\n",
      "Train 0/1 Accuracy: 0.9527062532842879\n",
      "Test 0/1 Accuracy: 0.7972689075630253\n",
      "\n",
      "Train F1 Score: 0.943467336683417\n",
      "Test F1 Score: 0.7477124183006535\n"
     ]
    }
   ],
   "source": [
    "##\n",
    "## Predict on train / test set\n",
    "print('')\n",
    "print('Neural Net - Fully Connected')\n",
    "print('')\n",
    "\n",
    "# get predictions for in/out of sample\n",
    "preds_train = np.reshape( np.round(model.predict(X_train_tfidf.toarray())), (-1,) )\n",
    "preds_test  = np.reshape( np.round(model.predict(X_test_tfidf.toarray())), (-1,) )\n",
    "\n",
    "print( 'Train 0/1 Accuracy: ' + str( np.mean( preds_train == y_train ) ) )\n",
    "print( 'Test 0/1 Accuracy: ' + str( np.mean( preds_test == y_test ) ) )\n",
    "print('')\n",
    "print( 'Train F1 Score: ' + str( metrics.f1_score( y_true = y_train,\n",
    "                                                   y_pred = preds_train ) ) )\n",
    "print( 'Test F1 Score: ' + str( metrics.f1_score( y_true = y_test,\n",
    "                                                   y_pred = preds_test ) ) )"
   ]
  }
 ],
 "metadata": {
  "kernelspec": {
   "display_name": "Python [conda env:py37_ml_lab] *",
   "language": "python",
   "name": "conda-env-py37_ml_lab-py"
  },
  "language_info": {
   "codemirror_mode": {
    "name": "ipython",
    "version": 3
   },
   "file_extension": ".py",
   "mimetype": "text/x-python",
   "name": "python",
   "nbconvert_exporter": "python",
   "pygments_lexer": "ipython3",
   "version": "3.7.6"
  }
 },
 "nbformat": 4,
 "nbformat_minor": 4
}
