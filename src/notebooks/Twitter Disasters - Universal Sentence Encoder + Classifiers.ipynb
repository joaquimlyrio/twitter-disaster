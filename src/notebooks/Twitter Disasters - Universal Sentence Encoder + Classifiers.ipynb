{
 "cells": [
  {
   "cell_type": "markdown",
   "metadata": {},
   "source": [
    "# Twitter Disaster Prediction"
   ]
  },
  {
   "cell_type": "markdown",
   "metadata": {},
   "source": [
    "### Import Libraries"
   ]
  },
  {
   "cell_type": "code",
   "execution_count": 33,
   "metadata": {},
   "outputs": [],
   "source": [
    "import pandas as pd\n",
    "import numpy as np\n",
    "\n",
    "from sklearn import linear_model, model_selection, preprocessing, metrics, svm\n",
    "from sklearn.feature_extraction.text import CountVectorizer, TfidfTransformer\n",
    "from sklearn.naive_bayes import BernoulliNB\n",
    "from sklearn.model_selection import cross_val_score, train_test_split\n",
    "from sklearn.ensemble import RandomForestClassifier\n",
    "\n",
    "import nltk\n",
    "from nltk.tokenize import word_tokenize \n",
    "from nltk.corpus import stopwords\n",
    "import string\n",
    "# nltk.download('stopwords')\n",
    "# nltk.download('punkt')\n",
    "\n",
    "import matplotlib.pyplot as plt\n",
    "from plotnine import *\n",
    "\n",
    "# tensorflow and Keras\n",
    "import tensorflow as tf\n",
    "from tensorflow import keras\n",
    "import tensorflow_hub as hub\n"
   ]
  },
  {
   "cell_type": "markdown",
   "metadata": {},
   "source": [
    "### Read Data"
   ]
  },
  {
   "cell_type": "code",
   "execution_count": 2,
   "metadata": {},
   "outputs": [
    {
     "data": {
      "text/html": [
       "<div>\n",
       "<style scoped>\n",
       "    .dataframe tbody tr th:only-of-type {\n",
       "        vertical-align: middle;\n",
       "    }\n",
       "\n",
       "    .dataframe tbody tr th {\n",
       "        vertical-align: top;\n",
       "    }\n",
       "\n",
       "    .dataframe thead th {\n",
       "        text-align: right;\n",
       "    }\n",
       "</style>\n",
       "<table border=\"1\" class=\"dataframe\">\n",
       "  <thead>\n",
       "    <tr style=\"text-align: right;\">\n",
       "      <th></th>\n",
       "      <th>id</th>\n",
       "      <th>keyword</th>\n",
       "      <th>location</th>\n",
       "      <th>text</th>\n",
       "      <th>target</th>\n",
       "    </tr>\n",
       "  </thead>\n",
       "  <tbody>\n",
       "    <tr>\n",
       "      <th>0</th>\n",
       "      <td>1</td>\n",
       "      <td>NaN</td>\n",
       "      <td>NaN</td>\n",
       "      <td>Our Deeds are the Reason of this #earthquake M...</td>\n",
       "      <td>1</td>\n",
       "    </tr>\n",
       "    <tr>\n",
       "      <th>1</th>\n",
       "      <td>4</td>\n",
       "      <td>NaN</td>\n",
       "      <td>NaN</td>\n",
       "      <td>Forest fire near La Ronge Sask. Canada</td>\n",
       "      <td>1</td>\n",
       "    </tr>\n",
       "    <tr>\n",
       "      <th>2</th>\n",
       "      <td>5</td>\n",
       "      <td>NaN</td>\n",
       "      <td>NaN</td>\n",
       "      <td>All residents asked to 'shelter in place' are ...</td>\n",
       "      <td>1</td>\n",
       "    </tr>\n",
       "    <tr>\n",
       "      <th>3</th>\n",
       "      <td>6</td>\n",
       "      <td>NaN</td>\n",
       "      <td>NaN</td>\n",
       "      <td>13,000 people receive #wildfires evacuation or...</td>\n",
       "      <td>1</td>\n",
       "    </tr>\n",
       "    <tr>\n",
       "      <th>4</th>\n",
       "      <td>7</td>\n",
       "      <td>NaN</td>\n",
       "      <td>NaN</td>\n",
       "      <td>Just got sent this photo from Ruby #Alaska as ...</td>\n",
       "      <td>1</td>\n",
       "    </tr>\n",
       "  </tbody>\n",
       "</table>\n",
       "</div>"
      ],
      "text/plain": [
       "   id keyword location                                               text  \\\n",
       "0   1     NaN      NaN  Our Deeds are the Reason of this #earthquake M...   \n",
       "1   4     NaN      NaN             Forest fire near La Ronge Sask. Canada   \n",
       "2   5     NaN      NaN  All residents asked to 'shelter in place' are ...   \n",
       "3   6     NaN      NaN  13,000 people receive #wildfires evacuation or...   \n",
       "4   7     NaN      NaN  Just got sent this photo from Ruby #Alaska as ...   \n",
       "\n",
       "   target  \n",
       "0       1  \n",
       "1       1  \n",
       "2       1  \n",
       "3       1  \n",
       "4       1  "
      ]
     },
     "execution_count": 2,
     "metadata": {},
     "output_type": "execute_result"
    }
   ],
   "source": [
    "# read data\n",
    "train = pd.read_csv( '../data/nlp-getting-started/train.csv' )\n",
    "test  = pd.read_csv( '../data/nlp-getting-started/test.csv' )\n",
    "subm_samp = pd.read_csv( '../data/nlp-getting-started/sample_submission.csv' )\n",
    "\n",
    "train.head(5)"
   ]
  },
  {
   "cell_type": "code",
   "execution_count": 3,
   "metadata": {},
   "outputs": [
    {
     "name": "stdout",
     "output_type": "stream",
     "text": [
      " Class 1 Size : 3271\n",
      " Class 0 Size : 4342\n"
     ]
    }
   ],
   "source": [
    "##\n",
    "## Checking size of each class on train set\n",
    "print( ' Class 1 Size : ' + str(train[ train['target'] == 1 ].shape[0]) )\n",
    "print( ' Class 0 Size : ' + str(train[ train['target'] == 0 ].shape[0]) )"
   ]
  },
  {
   "cell_type": "markdown",
   "metadata": {},
   "source": [
    "### Split Train / Test Set"
   ]
  },
  {
   "cell_type": "code",
   "execution_count": 6,
   "metadata": {},
   "outputs": [
    {
     "name": "stdout",
     "output_type": "stream",
     "text": [
      "Train shape:(5709,)\n",
      "Proportion of class 0 in train: 56.84%\n",
      "Proportion of class 1 in train: 43.16%\n",
      "\n",
      "Test shape:(1904,)\n",
      "Proportion of class 0 in train: 57.62%\n",
      "Proportion of class 1 in train: 42.38%\n"
     ]
    }
   ],
   "source": [
    "# Split the dataset for cross validation\n",
    "X_train, X_test, y_train, y_test = train_test_split(train.text, \n",
    "                                                    train.target, \n",
    "                                                    test_size=0.25, \n",
    "                                                    random_state=123)\n",
    "\n",
    "\n",
    "print('Train shape:' + str(X_train.shape) )\n",
    "print('Proportion of class 0 in train: ' + str( np.round( 100*np.sum(y_train==0) / len(y_train), 2 ) ) + '%' )\n",
    "print('Proportion of class 1 in train: ' + str( np.round( 100*np.sum(y_train==1) / len(y_train), 2 ) ) + '%' )\n",
    "print('')\n",
    "print('Test shape:' + str(X_test.shape) )\n",
    "print('Proportion of class 0 in train: ' + str( np.round( 100*np.sum(y_test==0) / len(y_test), 2 ) ) + '%' )\n",
    "print('Proportion of class 1 in train: ' + str( np.round( 100*np.sum(y_test==1) / len(y_test), 2 ) ) + '%' )"
   ]
  },
  {
   "cell_type": "markdown",
   "metadata": {},
   "source": [
    "## Feature Engineering"
   ]
  },
  {
   "cell_type": "markdown",
   "metadata": {},
   "source": [
    "### Universal Sentence Encoder\n",
    "\n",
    "The module does not require preprocessing the data before applying the module, it performs best effort text input preprocessing inside the graph."
   ]
  },
  {
   "cell_type": "code",
   "execution_count": 5,
   "metadata": {},
   "outputs": [],
   "source": [
    "import tensorflow as tf\n",
    "embed = hub.load(\"https://tfhub.dev/google/universal-sentence-encoder/4\")"
   ]
  },
  {
   "cell_type": "markdown",
   "metadata": {},
   "source": [
    "## Models"
   ]
  },
  {
   "cell_type": "code",
   "execution_count": 8,
   "metadata": {},
   "outputs": [],
   "source": [
    "# Create embedding based on clean version of text\n",
    "X_train_embed = embed( X_train )\n",
    "X_test_embed  = embed( X_test )"
   ]
  },
  {
   "cell_type": "markdown",
   "metadata": {},
   "source": [
    "### Ridge Classifier"
   ]
  },
  {
   "cell_type": "code",
   "execution_count": 13,
   "metadata": {},
   "outputs": [
    {
     "name": "stdout",
     "output_type": "stream",
     "text": [
      "\n",
      "Ridge Classifier\n",
      "\n",
      "Train 0/1 Accuracy: 0.8320196181467858\n",
      "Test 0/1 Accuracy: 0.8109243697478992\n",
      "\n",
      "Train F1 Score: 0.7962608880390907\n",
      "Test F1 Score: 0.7650130548302871\n"
     ]
    }
   ],
   "source": [
    "print('')\n",
    "print('Ridge Classifier')\n",
    "print('')\n",
    "\n",
    "from sklearn.linear_model import RidgeClassifierCV\n",
    "clf_ridge = RidgeClassifierCV( alphas=[1e-3, 1e-2, 1e-1, 1, 5, 10], cv = 5 ).fit(X_train_embed, y_train)\n",
    "\n",
    "# clf_ridge.get_params()\n",
    "\n",
    "print( 'Train 0/1 Accuracy: ' + str( np.mean( clf_ridge.predict(X_train_embed) == y_train ) ) )\n",
    "print( 'Test 0/1 Accuracy: ' + str( np.mean( clf_ridge.predict(X_test_embed) == y_test ) ) )\n",
    "print('')\n",
    "print( 'Train F1 Score: ' + str( metrics.f1_score( y_true = np.reshape(y_train.to_numpy(), (-1, 1)),\n",
    "                                                   y_pred = clf_ridge.predict(X_train_embed) ) ) )\n",
    "print( 'Test F1 Score: ' + str( metrics.f1_score( y_true = np.reshape(y_test.to_numpy(), (-1, 1)),\n",
    "                                                  y_pred = clf_ridge.predict(X_test_embed) ) ) )"
   ]
  },
  {
   "cell_type": "markdown",
   "metadata": {},
   "source": [
    "### Bernoulli Naive Bayes"
   ]
  },
  {
   "cell_type": "code",
   "execution_count": 14,
   "metadata": {},
   "outputs": [
    {
     "name": "stdout",
     "output_type": "stream",
     "text": [
      "\n",
      "Bernoulli Naive Bayes\n",
      "\n",
      "Train 0/1 Accuracy: 0.78857943597828\n",
      "Test 0/1 Accuracy: 0.7699579831932774\n",
      "\n",
      "Train F1 Score: 0.7539245667686034\n",
      "Test F1 Score: 0.725219573400251\n"
     ]
    }
   ],
   "source": [
    "##\n",
    "## Fit Bernoulli Naive-Bayes\n",
    "print('')\n",
    "print('Bernoulli Naive Bayes')\n",
    "print('')\n",
    "\n",
    "clf_nb = BernoulliNB().fit( X_train_embed, y_train )\n",
    "clf_nb\n",
    "\n",
    "##\n",
    "## Predict on train / test set\n",
    "print( 'Train 0/1 Accuracy: ' + str( np.mean( clf_nb.predict(X_train_embed) == y_train ) ) )\n",
    "print( 'Test 0/1 Accuracy: ' + str( np.mean( clf_nb.predict(X_test_embed) == y_test ) ) )\n",
    "print('')\n",
    "print( 'Train F1 Score: ' + str( metrics.f1_score( y_true = np.reshape(y_train.to_numpy(), (-1, 1)),\n",
    "                                                   y_pred = clf_nb.predict(X_train_embed) ) ) )\n",
    "print( 'Test F1 Score: ' + str( metrics.f1_score( y_true = np.reshape(y_test.to_numpy(), (-1, 1)),\n",
    "                                                  y_pred = clf_nb.predict(X_test_embed) ) ) )"
   ]
  },
  {
   "cell_type": "markdown",
   "metadata": {},
   "source": [
    "### PCA + Ridge Classifier"
   ]
  },
  {
   "cell_type": "code",
   "execution_count": 42,
   "metadata": {},
   "outputs": [
    {
     "data": {
      "image/png": "[encoded data removed]",
      "text/plain": [
       "<Figure size 432x288 with 1 Axes>"
      ]
     },
     "metadata": {
      "needs_background": "light"
     },
     "output_type": "display_data"
    }
   ],
   "source": [
    "from sklearn.decomposition import PCA\n",
    "pca = PCA().fit(X_train_embed)\n",
    "plt.plot(np.cumsum(pca.explained_variance_ratio_)[0:])\n",
    "plt.xlabel('Number of Components')\n",
    "plt.ylabel('Cumulative Explained Variance');"
   ]
  },
  {
   "cell_type": "code",
   "execution_count": 46,
   "metadata": {},
   "outputs": [],
   "source": [
    "##\n",
    "## Select number of components and transform original data (embedded)\n",
    "n_pca_comps = 180\n",
    "X_train_embed_pca = PCA( n_components = n_pca_comps ).fit_transform( X_train_embed )\n",
    "X_test_embed_pca  = PCA( n_components = n_pca_comps ).fit_transform( X_test_embed )"
   ]
  },
  {
   "cell_type": "code",
   "execution_count": 48,
   "metadata": {},
   "outputs": [
    {
     "name": "stdout",
     "output_type": "stream",
     "text": [
      "\n",
      "PCA + Ridge Classifier\n",
      "\n",
      "Train 0/1 Accuracy: 0.8302679978980557\n",
      "Test 0/1 Accuracy: 0.7720588235294118\n",
      "\n",
      "Train F1 Score: 0.7942238267148013\n",
      "Test F1 Score: 0.7290886392009988\n"
     ]
    }
   ],
   "source": [
    "print('')\n",
    "print('PCA + Ridge Classifier')\n",
    "print('')\n",
    "\n",
    "clf_ridge = RidgeClassifierCV( alphas=[1e-3, 1e-2, 1e-1, 1, 5, 10], cv = 5 ).fit(X_train_embed_pca, y_train)\n",
    "\n",
    "# clf_ridge.get_params()\n",
    "\n",
    "print( 'Train 0/1 Accuracy: ' + str( np.mean( clf_ridge.predict(X_train_embed_pca) == y_train ) ) )\n",
    "print( 'Test 0/1 Accuracy: ' + str( np.mean( clf_ridge.predict(X_test_embed_pca) == y_test ) ) )\n",
    "print('')\n",
    "print( 'Train F1 Score: ' + str( metrics.f1_score( y_true = np.reshape(y_train.to_numpy(), (-1, 1)),\n",
    "                                                   y_pred = clf_ridge.predict(X_train_embed_pca) ) ) )\n",
    "print( 'Test F1 Score: ' + str( metrics.f1_score( y_true = np.reshape(y_test.to_numpy(), (-1, 1)),\n",
    "                                                  y_pred = clf_ridge.predict(X_test_embed_pca) ) ) )"
   ]
  },
  {
   "cell_type": "markdown",
   "metadata": {},
   "source": [
    "### Feed-forward Neural Network"
   ]
  },
  {
   "cell_type": "code",
   "execution_count": 87,
   "metadata": {},
   "outputs": [
    {
     "name": "stdout",
     "output_type": "stream",
     "text": [
      "Model: \"sequential_13\"\n",
      "_________________________________________________________________\n",
      "Layer (type)                 Output Shape              Param #   \n",
      "=================================================================\n",
      "dense_28 (Dense)             (None, 16)                8208      \n",
      "_________________________________________________________________\n",
      "dense_29 (Dense)             (None, 12)                204       \n",
      "_________________________________________________________________\n",
      "dropout_2 (Dropout)          (None, 12)                0         \n",
      "_________________________________________________________________\n",
      "dense_30 (Dense)             (None, 1)                 13        \n",
      "=================================================================\n",
      "Total params: 8,425\n",
      "Trainable params: 8,425\n",
      "Non-trainable params: 0\n",
      "_________________________________________________________________\n"
     ]
    }
   ],
   "source": [
    "\n",
    "##\n",
    "## Define model's architecture\n",
    "model = tf.keras.Sequential()\n",
    "model.add( tf.keras.layers.Dense(16, activation='relu', input_shape=(X_train_embed.shape[1],) ) )\n",
    "model.add( tf.keras.layers.Dense(12, activation='relu', input_shape=(X_train_embed.shape[1],) ) )\n",
    "model.add( tf.keras.layers.Dropout(0.25, seed=123) )\n",
    "model.add( tf.keras.layers.Dense(1, activation='sigmoid' ) )\n",
    "\n",
    "##\n",
    "## Compile model\n",
    "model.compile(optimizer=keras.optimizers.RMSprop(),\n",
    "              loss='binary_crossentropy',\n",
    "              metrics=['accuracy'])\n",
    "\n",
    "##\n",
    "## Print model summary\n",
    "model.summary()"
   ]
  },
  {
   "cell_type": "code",
   "execution_count": 88,
   "metadata": {},
   "outputs": [
    {
     "name": "stdout",
     "output_type": "stream",
     "text": [
      "Train on 5709 samples, validate on 1904 samples\n",
      "Epoch 1/20\n",
      "5709/5709 [==============================] - 1s 128us/sample - loss: 0.5749 - accuracy: 0.7528 - val_loss: 0.4750 - val_accuracy: 0.7988\n",
      "Epoch 2/20\n",
      "5709/5709 [==============================] - 0s 43us/sample - loss: 0.4512 - accuracy: 0.8073 - val_loss: 0.4352 - val_accuracy: 0.8104\n",
      "Epoch 3/20\n",
      "5709/5709 [==============================] - 0s 43us/sample - loss: 0.4242 - accuracy: 0.8131 - val_loss: 0.4288 - val_accuracy: 0.8109\n",
      "Epoch 4/20\n",
      "5709/5709 [==============================] - 0s 43us/sample - loss: 0.4139 - accuracy: 0.8208 - val_loss: 0.4261 - val_accuracy: 0.8136\n",
      "Epoch 5/20\n",
      "5709/5709 [==============================] - 0s 43us/sample - loss: 0.4094 - accuracy: 0.8273 - val_loss: 0.4235 - val_accuracy: 0.8120\n",
      "Epoch 6/20\n",
      "5709/5709 [==============================] - 0s 44us/sample - loss: 0.3999 - accuracy: 0.8289 - val_loss: 0.4259 - val_accuracy: 0.8088\n",
      "Epoch 7/20\n",
      "5709/5709 [==============================] - 0s 43us/sample - loss: 0.3933 - accuracy: 0.8369 - val_loss: 0.4241 - val_accuracy: 0.8120\n",
      "Epoch 8/20\n",
      "5709/5709 [==============================] - 0s 44us/sample - loss: 0.3864 - accuracy: 0.8394 - val_loss: 0.4216 - val_accuracy: 0.8183\n",
      "Epoch 9/20\n",
      "5709/5709 [==============================] - 0s 44us/sample - loss: 0.3785 - accuracy: 0.8429 - val_loss: 0.4233 - val_accuracy: 0.8120\n",
      "Epoch 10/20\n",
      "5709/5709 [==============================] - 0s 44us/sample - loss: 0.3724 - accuracy: 0.8464 - val_loss: 0.4232 - val_accuracy: 0.8130\n",
      "Epoch 11/20\n",
      "5709/5709 [==============================] - 0s 43us/sample - loss: 0.3682 - accuracy: 0.8513 - val_loss: 0.4277 - val_accuracy: 0.8162\n",
      "Epoch 12/20\n",
      "5709/5709 [==============================] - 0s 43us/sample - loss: 0.3606 - accuracy: 0.8530 - val_loss: 0.4260 - val_accuracy: 0.8146\n",
      "Epoch 13/20\n",
      "5709/5709 [==============================] - 0s 45us/sample - loss: 0.3591 - accuracy: 0.8562 - val_loss: 0.4287 - val_accuracy: 0.8193\n",
      "Epoch 14/20\n",
      "5709/5709 [==============================] - 0s 44us/sample - loss: 0.3511 - accuracy: 0.8616 - val_loss: 0.4368 - val_accuracy: 0.8162\n",
      "Epoch 15/20\n",
      "5709/5709 [==============================] - 0s 44us/sample - loss: 0.3446 - accuracy: 0.8655 - val_loss: 0.4425 - val_accuracy: 0.8114\n",
      "Epoch 16/20\n",
      "5709/5709 [==============================] - 0s 44us/sample - loss: 0.3367 - accuracy: 0.8676 - val_loss: 0.4435 - val_accuracy: 0.8199\n",
      "Epoch 17/20\n",
      "5709/5709 [==============================] - 0s 44us/sample - loss: 0.3286 - accuracy: 0.8690 - val_loss: 0.4383 - val_accuracy: 0.8151\n",
      "Epoch 18/20\n",
      "5709/5709 [==============================] - 0s 44us/sample - loss: 0.3236 - accuracy: 0.8753 - val_loss: 0.4530 - val_accuracy: 0.8167\n",
      "Epoch 19/20\n",
      "5709/5709 [==============================] - 0s 44us/sample - loss: 0.3139 - accuracy: 0.8748 - val_loss: 0.4539 - val_accuracy: 0.8136\n",
      "Epoch 20/20\n",
      "5709/5709 [==============================] - 0s 44us/sample - loss: 0.3086 - accuracy: 0.8784 - val_loss: 0.4555 - val_accuracy: 0.8188\n"
     ]
    },
    {
     "data": {
      "text/plain": [
       "<tensorflow.python.keras.callbacks.History at 0x1a833971d0>"
      ]
     },
     "execution_count": 88,
     "metadata": {},
     "output_type": "execute_result"
    }
   ],
   "source": [
    "## Train Model\n",
    "model.fit(X_train_embed,\n",
    "          y_train,\n",
    "          epochs=20,\n",
    "          validation_data=(X_test_embed, y_test),\n",
    "          verbose=1 )"
   ]
  },
  {
   "cell_type": "code",
   "execution_count": 89,
   "metadata": {},
   "outputs": [
    {
     "name": "stdout",
     "output_type": "stream",
     "text": [
      "\n",
      "Neural Net - Fully Connected\n",
      "\n",
      "Train 0/1 Accuracy: 0.8924505167279734\n",
      "Test 0/1 Accuracy: 0.8188025210084033\n",
      "\n",
      "Train F1 Score: 0.8643393725143614\n",
      "Test F1 Score: 0.7648261758691206\n"
     ]
    }
   ],
   "source": [
    "##\n",
    "## Predict on train / test set\n",
    "print('')\n",
    "print('Neural Net - Fully Connected')\n",
    "print('')\n",
    "\n",
    "# get predictions for in/out of sample\n",
    "preds_train = np.reshape( np.round(model.predict(X_train_embed)), (-1,) )\n",
    "preds_test  = np.reshape( np.round(model.predict(X_test_embed)), (-1,) )\n",
    "\n",
    "print( 'Train 0/1 Accuracy: ' + str( np.mean( preds_train == y_train ) ) )\n",
    "print( 'Test 0/1 Accuracy: ' + str( np.mean( preds_test == y_test ) ) )\n",
    "print('')\n",
    "print( 'Train F1 Score: ' + str( metrics.f1_score( y_true = y_train,\n",
    "                                                   y_pred = preds_train ) ) )\n",
    "print( 'Test F1 Score: ' + str( metrics.f1_score( y_true = y_test,\n",
    "                                                   y_pred = preds_test ) ) )"
   ]
  },
  {
   "cell_type": "markdown",
   "metadata": {},
   "source": [
    "## Generate submission for Kaggle competition"
   ]
  },
  {
   "cell_type": "markdown",
   "metadata": {},
   "source": [
    "Fit model on all training data then generate predictions on supplied test data"
   ]
  },
  {
   "cell_type": "code",
   "execution_count": 90,
   "metadata": {},
   "outputs": [
    {
     "name": "stdout",
     "output_type": "stream",
     "text": [
      "Train on 7613 samples\n",
      "Epoch 1/20\n",
      "7613/7613 [==============================] - 1s 94us/sample - loss: 0.5390 - accuracy: 0.7644\n",
      "Epoch 2/20\n",
      "7613/7613 [==============================] - 0s 36us/sample - loss: 0.4423 - accuracy: 0.8056\n",
      "Epoch 3/20\n",
      "7613/7613 [==============================] - 0s 36us/sample - loss: 0.4243 - accuracy: 0.8124\n",
      "Epoch 4/20\n",
      "7613/7613 [==============================] - 0s 36us/sample - loss: 0.4185 - accuracy: 0.8206\n",
      "Epoch 5/20\n",
      "7613/7613 [==============================] - 0s 36us/sample - loss: 0.4097 - accuracy: 0.8277\n",
      "Epoch 6/20\n",
      "7613/7613 [==============================] - 0s 38us/sample - loss: 0.4049 - accuracy: 0.8274\n",
      "Epoch 7/20\n",
      "7613/7613 [==============================] - 0s 36us/sample - loss: 0.3984 - accuracy: 0.8332\n",
      "Epoch 8/20\n",
      "7613/7613 [==============================] - 0s 35us/sample - loss: 0.3900 - accuracy: 0.8354\n",
      "Epoch 9/20\n",
      "7613/7613 [==============================] - 0s 41us/sample - loss: 0.3876 - accuracy: 0.8386\n",
      "Epoch 10/20\n",
      "7613/7613 [==============================] - 0s 42us/sample - loss: 0.3838 - accuracy: 0.8394\n",
      "Epoch 11/20\n",
      "7613/7613 [==============================] - 0s 36us/sample - loss: 0.3756 - accuracy: 0.8417\n",
      "Epoch 12/20\n",
      "7613/7613 [==============================] - 0s 42us/sample - loss: 0.3710 - accuracy: 0.8503\n",
      "Epoch 13/20\n",
      "7613/7613 [==============================] - 0s 35us/sample - loss: 0.3688 - accuracy: 0.8499\n",
      "Epoch 14/20\n",
      "7613/7613 [==============================] - 0s 42us/sample - loss: 0.3604 - accuracy: 0.8517\n",
      "Epoch 15/20\n",
      "7613/7613 [==============================] - 0s 44us/sample - loss: 0.3542 - accuracy: 0.8528\n",
      "Epoch 16/20\n",
      "7613/7613 [==============================] - 0s 42us/sample - loss: 0.3511 - accuracy: 0.8571\n",
      "Epoch 17/20\n",
      "7613/7613 [==============================] - 0s 36us/sample - loss: 0.3437 - accuracy: 0.8592\n",
      "Epoch 18/20\n",
      "7613/7613 [==============================] - 0s 37us/sample - loss: 0.3386 - accuracy: 0.8589\n",
      "Epoch 19/20\n",
      "7613/7613 [==============================] - 0s 37us/sample - loss: 0.3318 - accuracy: 0.8643\n",
      "Epoch 20/20\n",
      "7613/7613 [==============================] - 0s 49us/sample - loss: 0.3245 - accuracy: 0.8685\n"
     ]
    },
    {
     "data": {
      "text/plain": [
       "<tensorflow.python.keras.callbacks.History at 0x1a8380c410>"
      ]
     },
     "execution_count": 90,
     "metadata": {},
     "output_type": "execute_result"
    }
   ],
   "source": [
    "model = tf.keras.Sequential()\n",
    "model.add( tf.keras.layers.Dense(16, activation='relu', input_shape=(X_train_embed.shape[1],) ) )\n",
    "model.add( tf.keras.layers.Dense(12, activation='relu', input_shape=(X_train_embed.shape[1],) ) )\n",
    "model.add( tf.keras.layers.Dropout(0.25, seed=123) )\n",
    "model.add( tf.keras.layers.Dense(1, activation='sigmoid' ) )\n",
    "\n",
    "##\n",
    "## Compile model\n",
    "model.compile(optimizer=keras.optimizers.RMSprop(),\n",
    "              loss='binary_crossentropy',\n",
    "              metrics=['accuracy'])\n",
    "\n",
    "##\n",
    "## Fit\n",
    "model.fit(embed( train.text ),\n",
    "          train.target,\n",
    "          epochs=20,\n",
    "          validation_split = 0,\n",
    "          verbose=1 )"
   ]
  },
  {
   "cell_type": "code",
   "execution_count": 92,
   "metadata": {},
   "outputs": [],
   "source": [
    "submission_embed = embed( test.text )\n",
    "submission_preds = np.reshape( np.round(model.predict(submission_embed)), (-1,) )\n",
    "\n",
    "test['target'] = submission_preds\n",
    "test.target = test.target.astype(int)\n",
    "test[['id','target']]\n",
    "test[['id','target']].to_csv( '../data/submissions/submission_20200501_v2.csv', index = False )"
   ]
  }
 ],
 "metadata": {
  "kernelspec": {
   "display_name": "Python [conda env:py37_ml_lab] *",
   "language": "python",
   "name": "conda-env-py37_ml_lab-py"
  },
  "language_info": {
   "codemirror_mode": {
    "name": "ipython",
    "version": 3
   },
   "file_extension": ".py",
   "mimetype": "text/x-python",
   "name": "python",
   "nbconvert_exporter": "python",
   "pygments_lexer": "ipython3",
   "version": "3.7.6"
  }
 },
 "nbformat": 4,
 "nbformat_minor": 4
}
